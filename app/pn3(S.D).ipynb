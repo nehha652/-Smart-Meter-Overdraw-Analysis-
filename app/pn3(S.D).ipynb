{
 "cells": [
  {
   "cell_type": "code",
   "execution_count": 1,
   "metadata": {},
   "outputs": [],
   "source": [
    "import pandas as pd"
   ]
  },
  {
   "cell_type": "code",
   "execution_count": 2,
   "metadata": {},
   "outputs": [],
   "source": [
    "file = pd.read_csv('C:/Users/met.officer3/Documents/Neha Unmesh 2024/pandas/pn3.csv')"
   ]
  },
  {
   "cell_type": "code",
   "execution_count": 3,
   "metadata": {},
   "outputs": [],
   "source": [
    "file.columns = file.columns.str.strip()"
   ]
  },
  {
   "cell_type": "code",
   "execution_count": 4,
   "metadata": {},
   "outputs": [],
   "source": [
    "phase_std_dev = file.groupby('meter no.')['phase'].std().reset_index()\n",
    "phase_std_dev.columns = ['meter no.', 'phase_std_dev']"
   ]
  },
  {
   "cell_type": "code",
   "execution_count": 5,
   "metadata": {},
   "outputs": [],
   "source": [
    "phase_max = file.groupby('meter no.')['phase'].max().reset_index()\n",
    "phase_max.columns = ['meter no.', 'phase_max']"
   ]
  },
  {
   "cell_type": "code",
   "execution_count": 6,
   "metadata": {},
   "outputs": [],
   "source": [
    "phase_min = file.groupby('meter no.')['phase'].min().reset_index()\n",
    "phase_min.columns = ['meter no.', 'phase_min']"
   ]
  },
  {
   "cell_type": "code",
   "execution_count": 7,
   "metadata": {},
   "outputs": [],
   "source": [
    "phase_std_dev = phase_std_dev.merge(phase_max, on='meter no.')\n",
    "phase_std_dev = phase_std_dev.merge(phase_min, on='meter no.')"
   ]
  },
  {
   "cell_type": "code",
   "execution_count": 8,
   "metadata": {},
   "outputs": [],
   "source": [
    "meter_counts=file['meter no.'].value_counts().reset_index()\n",
    "meter_counts.columns =['meter no.','meter_counts']"
   ]
  },
  {
   "cell_type": "code",
   "execution_count": 9,
   "metadata": {},
   "outputs": [],
   "source": [
    "phase_std_dev = phase_std_dev.merge(meter_counts, on='meter no.')"
   ]
  },
  {
   "cell_type": "code",
   "execution_count": 10,
   "metadata": {},
   "outputs": [],
   "source": [
    "\n",
    "\n",
    "lower_threshold = 0.005\n",
    "upper_threshold = 0.01\n"
   ]
  },
  {
   "cell_type": "code",
   "execution_count": 11,
   "metadata": {},
   "outputs": [],
   "source": [
    "filtered_meters = phase_std_dev[(phase_std_dev['phase_std_dev'] > lower_threshold) & (phase_std_dev['phase_std_dev'] <= upper_threshold)]"
   ]
  },
  {
   "cell_type": "code",
   "execution_count": 12,
   "metadata": {},
   "outputs": [
    {
     "name": "stdout",
     "output_type": "stream",
     "text": [
      "     meter no.  phase_std_dev  phase_max  phase_min  meter_counts\n",
      "224    6518010       0.008045     0.0900     0.0599            14\n",
      "550    6526110       0.007071     3.1400     3.1300             2\n",
      "849    6670690       0.008710     0.0199     0.0000            10\n"
     ]
    }
   ],
   "source": [
    "pd.set_option('display.max_rows', None)\n",
    "print(filtered_meters)"
   ]
  }
 ],
 "metadata": {
  "kernelspec": {
   "display_name": "Python 3",
   "language": "python",
   "name": "python3"
  },
  "language_info": {
   "codemirror_mode": {
    "name": "ipython",
    "version": 3
   },
   "file_extension": ".py",
   "mimetype": "text/x-python",
   "name": "python",
   "nbconvert_exporter": "python",
   "pygments_lexer": "ipython3",
   "version": "3.12.4"
  }
 },
 "nbformat": 4,
 "nbformat_minor": 2
}
